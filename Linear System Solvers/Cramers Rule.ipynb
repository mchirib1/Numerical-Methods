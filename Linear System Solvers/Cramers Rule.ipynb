{
 "cells": [
  {
   "cell_type": "markdown",
   "id": "3735ed86-0681-422c-b75c-6c7b577e8123",
   "metadata": {},
   "source": [
    "# Import libs and modules"
   ]
  },
  {
   "cell_type": "code",
   "execution_count": 136,
   "id": "565f75e2-36a6-4e21-9a35-8f12fc0cd85c",
   "metadata": {},
   "outputs": [],
   "source": [
    "import numpy as np\n",
    "import matplotlib.pyplot as plt"
   ]
  },
  {
   "cell_type": "markdown",
   "id": "17064c27-18e3-46ef-94f4-e1c6d6bef022",
   "metadata": {},
   "source": [
    "# Cramers Rule\n",
    "\n",
    "Cramers rule is a simple iterative method to find the solutions to a system of linear equations. The method only works if there is unique solution available and will not work with inifinet or no solution.\n",
    "\n",
    "In the simplest case, the basic method is:\n",
    "\n",
    "In a system of $n$ linear equations for $n$ unknowns:\n",
    "\n",
    "$$Ax=b$$\n",
    "\n",
    "Where the $nxn$ matrix $A$ has nonzero determinant, and $x$ is the column vector of variables, then the individual values of the unknowns are given by:\n",
    "\n",
    "$$x_{i}=\\frac{det(A_{i})}{det(A)}$$\n",
    "where:\n",
    "$$i=1,2,\\dots,n$$\n",
    "\n",
    "Where $A_{i}$ is the matrix formed by replacing the $i$th column of $A$ by the column vector $b$.\n",
    "\n",
    "However calculating the determinent can be computationally expensive. "
   ]
  },
  {
   "cell_type": "markdown",
   "id": "72e59e76-aa82-480e-9799-440e123af49c",
   "metadata": {},
   "source": [
    "# Example 1\n",
    "\n",
    "For the system of equations: \n",
    "\n",
    "$$x_{1}-2x_{2}+3x_{3}=15$$\n",
    "$$2x_{1}-x_{2}+3x_{3}=15$$\n",
    "$$x_{1}+x_{2}-3x_{3}=-9$$\n",
    "\n",
    "Show solution is given by:\n",
    "\n",
    "$$x_{1}=2;x_{2}=-2;x_{3}=3$$\n"
   ]
  },
  {
   "cell_type": "code",
   "execution_count": 144,
   "id": "6a02df96-1aab-4883-a7ce-b6d65bbcf942",
   "metadata": {},
   "outputs": [],
   "source": [
    "A = np.array([[1,-2,3],[2,-1,3],[1,1,-3]])\n",
    "b = np.array([15,15,-9])"
   ]
  },
  {
   "cell_type": "code",
   "execution_count": 145,
   "id": "30ad4815-b808-451e-ade7-57e4d105c6e8",
   "metadata": {},
   "outputs": [
    {
     "name": "stdout",
     "output_type": "stream",
     "text": [
      "x0 = 2.000000000000001\n",
      "x1 = -2.0000000000000018\n",
      "x2 = 3.0000000000000004\n"
     ]
    }
   ],
   "source": [
    "for i in range(A.shape[0]):\n",
    "    \n",
    "    D = np.linalg.det(A)\n",
    "    Ai = A.copy()\n",
    "    Ai[:,i] = b\n",
    "    Di = np.linalg.det(Ai)\n",
    "    \n",
    "    print(f\"x{i} = {Di/D}\")"
   ]
  },
  {
   "cell_type": "markdown",
   "id": "d3c78b7a-5040-45ac-9013-bc86b1f28646",
   "metadata": {},
   "source": [
    "# Example 2\n",
    "\n",
    "For the system of equations: \n",
    "\n",
    "$$x_{1}+x_{2}+2x_{3}-x_{4}=5$$\n",
    "$$3x_{1}+2x_{2}+x_{3}+4x_{4}=2$$\n",
    "$$x_{1}-2x_{2}+3x_{3}+x_{4}=1$$\n",
    "$$x_{1}+3x_{2}-2x_{3}-3x_{4}=5$$\n",
    "\n",
    "\n",
    "Show solution is given by:\n",
    "\n",
    "$$x_{1}=1;x_{2}=1;x_{3}=1;x_{4}=-1$$"
   ]
  },
  {
   "cell_type": "code",
   "execution_count": 146,
   "id": "7905f069-9bb0-48d9-9024-40aad7970bf8",
   "metadata": {},
   "outputs": [
    {
     "data": {
      "text/plain": [
       "array([[ 1,  1,  2, -1],\n",
       "       [ 3,  2,  1,  4],\n",
       "       [ 1, -2,  3,  1],\n",
       "       [ 1,  3, -2, -3]])"
      ]
     },
     "execution_count": 146,
     "metadata": {},
     "output_type": "execute_result"
    }
   ],
   "source": [
    "A = np.array([[1,1,2,-1],[3,2,1,4],[1,-2,3,1], [1,3,-2,-3]])\n",
    "b = np.array([5,2,1,5])\n",
    "A"
   ]
  },
  {
   "cell_type": "code",
   "execution_count": 147,
   "id": "a1c1068d-2986-4901-ba1a-9455618ace43",
   "metadata": {},
   "outputs": [
    {
     "name": "stdout",
     "output_type": "stream",
     "text": [
      "x0 = 0.9999999999999992\n",
      "x1 = 0.9999999999999992\n",
      "x2 = 1.0\n",
      "x3 = -1.0\n"
     ]
    }
   ],
   "source": [
    "for i in range(A.shape[0]):\n",
    "    \n",
    "    D = np.linalg.det(A)\n",
    "    Aj = A.copy()\n",
    "    Aj[:,i] = b\n",
    "    Dj = np.linalg.det(Aj)\n",
    "    \n",
    "    print(f\"x{i} = {Dj/D}\")"
   ]
  }
 ],
 "metadata": {
  "kernelspec": {
   "display_name": "Python 3 (ipykernel)",
   "language": "python",
   "name": "python3"
  },
  "language_info": {
   "codemirror_mode": {
    "name": "ipython",
    "version": 3
   },
   "file_extension": ".py",
   "mimetype": "text/x-python",
   "name": "python",
   "nbconvert_exporter": "python",
   "pygments_lexer": "ipython3",
   "version": "3.8.10"
  }
 },
 "nbformat": 4,
 "nbformat_minor": 5
}
