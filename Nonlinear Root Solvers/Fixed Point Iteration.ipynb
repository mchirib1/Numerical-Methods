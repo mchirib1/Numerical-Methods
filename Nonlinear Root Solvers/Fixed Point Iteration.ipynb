{
 "cells": [
  {
   "cell_type": "markdown",
   "id": "4a9416dc-3a5e-447f-b37a-299886815634",
   "metadata": {
    "tags": []
   },
   "source": [
    "# Import libraries"
   ]
  },
  {
   "cell_type": "code",
   "execution_count": 1,
   "id": "f78bf854-c967-4a8d-996e-b6e934040a12",
   "metadata": {},
   "outputs": [],
   "source": [
    "import numpy as np \n",
    "import matplotlib.pyplot as plt"
   ]
  },
  {
   "cell_type": "markdown",
   "id": "ea919db3-2e02-46b9-ad0a-36d92a54450a",
   "metadata": {},
   "source": [
    "# The Method\n",
    "\n",
    "The fixed point iteration method takes advantage of a function $\\phi(x)$, where $\\phi(c)$ is a fixed point (i.e. $\\phi(c)=c$). \n",
    "\n",
    "What this basically means that at $\\phi(c)$ is an intersection of $\\phi(x)=y$ and $y=x$. \n",
    "\n",
    "For example lets take the function:\n",
    "\n",
    "$$\\phi(x)=\\frac{x^{2}+2}{3}$$\n",
    "\n",
    "Below you can see that the function $\\phi(x)=y$ intersects with $y=x$ at points $x=1$ and $x=2$. These are the fixed points (i.e. $c$). "
   ]
  },
  {
   "cell_type": "code",
   "execution_count": 32,
   "id": "716f4ea4-868b-4920-83e0-16147f82fdba",
   "metadata": {
    "jupyter": {
     "source_hidden": true
    },
    "tags": []
   },
   "outputs": [
    {
     "data": {
      "image/png": "[encoded data removed]",
      "text/plain": [
       "<Figure size 432x288 with 1 Axes>"
      ]
     },
     "metadata": {
      "needs_background": "light"
     },
     "output_type": "display_data"
    }
   ],
   "source": [
    "def phi(x):\n",
    "    \n",
    "    y = (x**2 + 2) / 3\n",
    "    \n",
    "    return y\n",
    "\n",
    "x = np.linspace(0, 2.5)\n",
    "\n",
    "ax = plt.axes()\n",
    "\n",
    "ax.plot(x, phi(x), label='$y=\\phi(x)$')\n",
    "ax.plot(x, x, label='$y=x$')\n",
    "\n",
    "ax.scatter(2, 2, c='k')\n",
    "ax.scatter(1, 1, c='k')\n",
    "\n",
    "plt.legend()\n",
    "plt.show()"
   ]
  },
  {
   "cell_type": "markdown",
   "id": "9727aa1f-069a-4315-944a-8aa5ea67f693",
   "metadata": {},
   "source": [
    "The advantage of knowing the fixed points of this function $\\phi$ is those are the points which solve the equation: \n",
    "\n",
    "$$\\phi(x)-x=0$$\n",
    "\n",
    "If we can engineer a scenario where:\n",
    "\n",
    "$$f(x)=\\phi(x)-x=0$$\n",
    "\n",
    "Those then must be the roots of f(x) as seen below."
   ]
  },
  {
   "cell_type": "code",
   "execution_count": 39,
   "id": "b5ad8e71-9978-4759-afbe-fe2af60a3810",
   "metadata": {
    "jupyter": {
     "source_hidden": true
    },
    "tags": []
   },
   "outputs": [
    {
     "data": {
      "image/png": "[encoded data removed]",
      "text/plain": [
       "<Figure size 432x288 with 1 Axes>"
      ]
     },
     "metadata": {
      "needs_background": "light"
     },
     "output_type": "display_data"
    }
   ],
   "source": [
    "x = np.linspace(0, 2.5)\n",
    "\n",
    "ax = plt.axes()\n",
    "ax.plot(x, phi(x) - x, label='$y=\\phi(x)-x$')\n",
    "ax.plot(x, np.zeros(x.shape), label='$y=0$')\n",
    "\n",
    "ax.scatter(2, 0, c='k')\n",
    "ax.scatter(1, 0, c='k')\n",
    "\n",
    "plt.legend()\n",
    "plt.show()"
   ]
  },
  {
   "cell_type": "markdown",
   "id": "aa5837e7-aec4-48b7-8468-cd80f90e8865",
   "metadata": {},
   "source": [
    "The example above was worked out by starting from the function:\n",
    "\n",
    "$$f(x)=x^{2}-3x+2=0$$\n",
    "\n",
    "Then we can rewrote the equation to solve for $x$ and rename this function $\\phi$:\n",
    "\n",
    "$$x=\\frac{x^{2}+2}{3}=\\phi(x)$$\n",
    "\n",
    "Buf often times we won't know exactly what the fixed points of $\\phi(x)$. For the example above, assume we didn't exactly know the fixed point but knew there was one in the interval $[0.5, 2.5]$. In this case we could make a first guess in this interval for an initial approximation say $x_{0}=1.8$.\n",
    "\n",
    "Using this we can solve the function $\\phi$ to get the update our fixed point approximation.\n",
    "\n",
    "$$x_{1}=\\phi(0)$$\n",
    "$$x_{2}=\\phi(1)$$\n",
    "$$x_{3}=\\phi(2)$$\n",
    "$$\\vdots$$\n",
    "$$x_{n+1}=\\phi(n)$$\n",
    "\n",
    "These updated approximations should converge onto a fixed point given appropriate circumstances"
   ]
  },
  {
   "cell_type": "code",
   "execution_count": 75,
   "id": "93898de2-49bc-4f74-ae22-d3fa7f1787a8",
   "metadata": {
    "tags": []
   },
   "outputs": [
    {
     "name": "stdout",
     "output_type": "stream",
     "text": [
      "For an initial guess of 1.8, fixed point approximation results in:\n",
      "Iteration: 0 \n",
      "Fixed point approximation:1.7466666666666668\n",
      "Iteration: 1 \n",
      "Fixed point approximation:1.6836148148148151\n",
      "Iteration: 2 \n",
      "Fixed point approximation:1.6115196148879747\n",
      "Iteration: 3 \n",
      "Fixed point approximation:1.5323318230562286\n",
      "Iteration: 4 \n",
      "Fixed point approximation:1.449346938650275\n",
      "Iteration: 5 \n",
      "Fixed point approximation:1.3668688495249748\n",
      "Iteration: 6 \n",
      "Fixed point approximation:1.2894434839339093\n",
      "Iteration: 7 \n",
      "Fixed point approximation:1.2208881660865394\n",
      "Iteration: 8 \n",
      "Fixed point approximation:1.1635226380300512\n",
      "Iteration: 9 \n",
      "Fixed point approximation:1.1179283097361365\n",
      "Iteration: 10 \n",
      "Fixed point approximation:1.0832545685698316\n",
      "\n",
      "And 1 is a a root of f(x)\n"
     ]
    }
   ],
   "source": [
    "def phi(x):\n",
    "    \n",
    "    y = (x**2 + 2) / 3\n",
    "    \n",
    "    return y\n",
    "\n",
    "def fixed_point_iteration(iterations, initial_guess, phi):\n",
    "\n",
    "    x = phi(initial_guess)\n",
    "    \n",
    "    for i in range(iterations):\n",
    "        \n",
    "        print(f'Iteration: {i}', f'\\nFixed point approximation:{x}')\n",
    "        x = phi(x)\n",
    "        \n",
    "# initial guess and iteration\n",
    "initial_guess = 1.8\n",
    "\n",
    "print(f'For an initial guess of {initial_guess}, fixed point approximation results in:')\n",
    "fixed_point_iteration(11, 1.8, phi)\n",
    "\n",
    "print('\\nAnd 1 is a a root of f(x)')"
   ]
  },
  {
   "cell_type": "markdown",
   "id": "2c173316-aa5d-40ec-ab92-0529464f0772",
   "metadata": {
    "tags": []
   },
   "source": [
    "# Example 1\n",
    "\n",
    "Here is an example for a trig function: \n",
    "\n",
    "$$f(x)=cos(x)-5x+1=0$$"
   ]
  },
  {
   "cell_type": "code",
   "execution_count": 159,
   "id": "03ef441c-e069-4c7d-8078-43b51ac9e479",
   "metadata": {
    "jupyter": {
     "source_hidden": true
    },
    "tags": []
   },
   "outputs": [
    {
     "data": {
      "image/png": "[encoded data removed]",
      "text/plain": [
       "<Figure size 432x288 with 1 Axes>"
      ]
     },
     "metadata": {
      "needs_background": "light"
     },
     "output_type": "display_data"
    }
   ],
   "source": [
    "def f(x):\n",
    "    \n",
    "    y = np.cos(x) - (5 * x) + 1\n",
    "    \n",
    "    return y\n",
    "\n",
    "x = np.linspace(-10, 10)\n",
    "\n",
    "ax = plt.axes()\n",
    "\n",
    "ax.plot(x, f(x), label='$y=cos(x)-5x+1=0$')\n",
    "ax.legend()\n",
    "plt.show()"
   ]
  },
  {
   "cell_type": "markdown",
   "id": "0379d2b4-5951-4bfb-98f7-2b0c34eb956f",
   "metadata": {},
   "source": [
    "To solve for $x$ function can be rewritten as:\n",
    "\n",
    "1. $$x=\\frac{cos(x)+1}{5}=x=\\phi(x)$$\n",
    "\n",
    "However as a note, you can also have infinate functions iteration functions for a given equation. For example this function would also be valid as both can be seen in the plot below with the same intersect of $y=x$:\n",
    "\n",
    "2. $$x=cos(x)-4x+1=\\phi(x)$$"
   ]
  },
  {
   "cell_type": "code",
   "execution_count": 136,
   "id": "58e7aee7-6892-4ca3-9795-cf9416635277",
   "metadata": {
    "jupyter": {
     "source_hidden": true
    },
    "tags": []
   },
   "outputs": [
    {
     "data": {
      "image/png": "[encoded data removed]",
      "text/plain": [
       "<Figure size 432x288 with 1 Axes>"
      ]
     },
     "metadata": {
      "needs_background": "light"
     },
     "output_type": "display_data"
    }
   ],
   "source": [
    "def f(x):\n",
    "    \n",
    "    y = np.cos(x) - 5*x + 1\n",
    "\n",
    "    return y\n",
    "    \n",
    "def phi1(x):\n",
    "    \n",
    "    y = (np.cos(x) + 1) / 5\n",
    "    \n",
    "    return y\n",
    "\n",
    "def phi2(x):\n",
    "    \n",
    "    y = np.cos(x) - 4*x + 1\n",
    "    \n",
    "    return y\n",
    "\n",
    "x = np.linspace(-2.5, 2.5)\n",
    "\n",
    "ax = plt.axes()\n",
    "\n",
    "ax.plot(x, phi1(x), label='$y=cos(x)+1/5$')\n",
    "ax.plot(x, phi2(x), label='$y=cos(x)-4x+1$')\n",
    "ax.plot(x, x, label='$y=x$')\n",
    "\n",
    "plt.legend()\n",
    "plt.show()"
   ]
  },
  {
   "cell_type": "code",
   "execution_count": 140,
   "id": "e276b258-9b06-4fa7-bbc8-25423007cd45",
   "metadata": {
    "tags": []
   },
   "outputs": [
    {
     "name": "stdout",
     "output_type": "stream",
     "text": [
      "For an initial guess of 1, fixed point approximation results in:\n",
      "Iteration: 0 \n",
      "Phi1(x):0.30806046117362795 and Phi2(x):-2.4596976941318602\n",
      "Iteration: 1 \n",
      "Phi1(x):0.3905846902671269 and Phi2(x):0.044724042781057814\n",
      "Iteration: 2 \n",
      "Phi1(x):0.38493732186160556 and Phi2(x):0.3998000093388428\n",
      "Iteration: 3 \n",
      "Phi1(x):0.38536439404004624 and Phi2(x):0.3842277711229223\n",
      "Iteration: 4 \n",
      "Phi1(x):0.3853323039267105 and Phi2(x):0.38541763478250374\n",
      "Iteration: 5 \n",
      "Phi1(x):0.38533471634567074 and Phi2(x):0.38532830105876237\n",
      "Iteration: 6 \n",
      "Phi1(x):0.3853345349953502 and Phi2(x):0.3853350172534552\n",
      "Iteration: 7 \n",
      "Phi1(x):0.38533454862815186 and Phi2(x):0.3853345123749403\n",
      "Iteration: 8 \n",
      "Phi1(x):0.3853345476033219 and Phi2(x):0.3853345503286147\n",
      "Iteration: 9 \n",
      "Phi1(x):0.3853345476803623 and Phi2(x):0.38533454747549156\n",
      "Iteration: 10 \n",
      "Phi1(x):0.38533454767457087 and Phi2(x):0.3853345476899718\n",
      "Iteration: 11 \n",
      "Phi1(x):0.38533454767500624 and Phi2(x):0.3853345476738485\n",
      "Iteration: 12 \n",
      "Phi1(x):0.3853345476749735 and Phi2(x):0.38533454767506053\n",
      "Iteration: 13 \n",
      "Phi1(x):0.385334547674976 and Phi2(x):0.3853345476749694\n",
      "Iteration: 14 \n",
      "Phi1(x):0.38533454767497577 and Phi2(x):0.38533454767497627\n"
     ]
    }
   ],
   "source": [
    "def fixed_point_iteration(iterations, initial_guess, phi1, phi2):\n",
    "\n",
    "    x1 = phi1(initial_guess)\n",
    "    x2 = phi2(initial_guess)\n",
    "    \n",
    "    convergence1 = []\n",
    "    convergence2 = []\n",
    "    \n",
    "    for i in range(iterations):\n",
    "        \n",
    "        print(f'Iteration: {i}', f'\\nPhi1(x):{x1} and Phi2(x):{x2}')\n",
    "        x1 = phi1(x1)\n",
    "        x2 = phi1(x2)\n",
    "        \n",
    "        convergence1.append(x1)\n",
    "        convergence2.append(x2)\n",
    "        \n",
    "    return np.array(convergence1), np.array(convergence2)\n",
    "        \n",
    "# initial guess and iteration\n",
    "initial_guess = 1\n",
    "\n",
    "print(f'For an initial guess of {initial_guess}, fixed point approximation results in:')\n",
    "convergence1, convergence2 = fixed_point_iteration(15, initial_guess, phi1, phi2)"
   ]
  },
  {
   "cell_type": "markdown",
   "id": "70be8b1d-67cb-499e-a4e0-aa5bd87896c8",
   "metadata": {},
   "source": [
    "Clearly both iteration functions are converging. It should be noted there are certain convergence conditions and some iteration functions converge faster than others as can be seen below where:\n",
    "\n",
    "- $$\\phi_{1}(x)=\\frac{cos(x)+1}{5}$$\n",
    "- $$\\phi_{2}(x)=cos(x)-4x+1$$"
   ]
  },
  {
   "cell_type": "code",
   "execution_count": 151,
   "id": "88be4d84-7cb4-40f5-9b51-632d8b87e5b3",
   "metadata": {
    "jupyter": {
     "source_hidden": true
    },
    "tags": []
   },
   "outputs": [
    {
     "data": {
      "image/png": "[encoded data removed]",
      "text/plain": [
       "<Figure size 1008x432 with 2 Axes>"
      ]
     },
     "metadata": {
      "needs_background": "light"
     },
     "output_type": "display_data"
    }
   ],
   "source": [
    "fig, [ax1, ax2] = plt.subplots(1,2, figsize=(14,6))\n",
    "\n",
    "i = np.arange(0,15)\n",
    "\n",
    "ax1.plot(i, convergence1, label='$Phi_{1}(x_{n})$')\n",
    "ax1.plot(i, convergence2, label='$Phi_{2}(x_{n})$')\n",
    "\n",
    "ax2.scatter(f(convergence1), i, label='$f(x_{n})$')\n",
    "ax2.scatter(f(convergence2), i, label='$f(x_{n})$')\n",
    "\n",
    "ax1.legend()\n",
    "ax2.legend()\n",
    "\n",
    "plt.show()"
   ]
  },
  {
   "cell_type": "markdown",
   "id": "352d3b76-76e2-40c0-ab47-f9721b0828f2",
   "metadata": {},
   "source": [
    "# Example 2"
   ]
  }
 ],
 "metadata": {
  "kernelspec": {
   "display_name": "Python 3 (ipykernel)",
   "language": "python",
   "name": "python3"
  },
  "language_info": {
   "codemirror_mode": {
    "name": "ipython",
    "version": 3
   },
   "file_extension": ".py",
   "mimetype": "text/x-python",
   "name": "python",
   "nbconvert_exporter": "python",
   "pygments_lexer": "ipython3",
   "version": "3.8.10"
  }
 },
 "nbformat": 4,
 "nbformat_minor": 5
}
