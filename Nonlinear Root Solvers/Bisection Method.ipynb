{
 "cells": [
  {
   "cell_type": "markdown",
   "id": "547f1650-afb4-41cb-8aff-74de0f01d3b6",
   "metadata": {
    "tags": []
   },
   "source": [
    "# Import libraries"
   ]
  },
  {
   "cell_type": "code",
   "execution_count": 8,
   "id": "1bde0bb2-7d0b-44be-aded-b2c5f60dfd7e",
   "metadata": {
    "tags": []
   },
   "outputs": [],
   "source": [
    "import numpy as np \n",
    "import matplotlib.pyplot as plt"
   ]
  },
  {
   "cell_type": "markdown",
   "id": "4256f049-f91d-415c-b1e8-272893af16e5",
   "metadata": {},
   "source": [
    "# The method\n",
    "\n",
    "The bisection method works based on the intermediate value theorem: \n",
    "\n",
    "- If $f(x)$ is a continuous function, on the interval $I$, $a$ and $b$ are two points in $I$, and $f(a) \\le c \\le f(b)$ then there exists a number $\\zeta$ in $[a, b]$, such that $f(\\zeta)=c$.\n",
    "\n",
    "Using this theorm we can set $c=0$ in order to find the roots of a function. To implement this function two initial guesses $(a, b)$ must be chosen. Then the first approximation to the root is the midpoint of the interval $(a, b)$, i.e., \n",
    "\n",
    "$$x_{0}=\\frac{a+b}{2}$$\n",
    "\n",
    "Since we are searching for the root we can analyze how close the approximation is by evaluating $f(a)f(x_{0})<0$, i.e.,\n",
    "\n",
    "- If $f(a)f(x_{0})<0$ is true, the root will lie in the interval $(a, x_{0})$ and therefore we can set $b$ equal to $x_{0}$.\n",
    "\n",
    "- If $f(a)f(x_{0})<0$ is false, the root will lie in the interval $(x_{0}, b)$ and therefore we can set $a$ equal to $x_{0}$.\n",
    "\n",
    "This process can be repeated for $n$ interations generating the sequence $x_{0}, x_{1}, x_{2}...x_{n}$. The sequence is generated until the last approximation $x_{n}$ is up to the desired accuracy.\n"
   ]
  },
  {
   "cell_type": "code",
   "execution_count": 2,
   "id": "f574c61f-5ffa-4a77-95e3-e7df1d9e1e8a",
   "metadata": {},
   "outputs": [],
   "source": [
    "def bisect_method(iterations, f, initial_a, initial_b):\n",
    "    \n",
    "    # random initial guesses \n",
    "    a = initial_a\n",
    "    b = initial_b\n",
    "    \n",
    "    # lists to store the results\n",
    "    ri = []\n",
    "    rx = []\n",
    "    rfx = []\n",
    "    \n",
    "    # iterate\n",
    "    for i in range(iterations):\n",
    "        \n",
    "        # calculate the next x using as the midpoint of the current interval\n",
    "        x = midpoint(a, b)\n",
    "        \n",
    "        # store results\n",
    "        ri.append(i)\n",
    "        rx.append(x)\n",
    "        rfx.append(f(x))\n",
    "        \n",
    "        # evaluate approximation over/underestimate\n",
    "        if (f(a) * f(x)) < 0:\n",
    "            \n",
    "            b = x\n",
    "            \n",
    "        else :\n",
    "            \n",
    "            a = x\n",
    "    \n",
    "    return ri, rx, rfx\n",
    "\n",
    "\n",
    "def midpoint(a, b):\n",
    "    \n",
    "    # midpoint interval (a, b)\n",
    "    x = (a + b) / 2\n",
    "    \n",
    "    return x"
   ]
  },
  {
   "cell_type": "markdown",
   "id": "f9d3b747-c60c-45c5-8543-6bc342755781",
   "metadata": {},
   "source": [
    "# Example Function\n",
    "\n",
    "Here we can demonstrate this method by finding the root of the function: $f(x)=x^{3}-4x-9$.\n",
    "\n",
    "We can start by choosing initial guesses $a=2$ and $b=3$"
   ]
  },
  {
   "cell_type": "code",
   "execution_count": 6,
   "id": "b6f34056-4cb4-43e6-a46a-338f332064eb",
   "metadata": {
    "jupyter": {
     "source_hidden": true
    },
    "tags": []
   },
   "outputs": [],
   "source": [
    "# example f(x)\n",
    "def f(x):\n",
    "    \n",
    "    y = x**3 - (4 * x) - 9\n",
    "    \n",
    "    return y"
   ]
  },
  {
   "cell_type": "code",
   "execution_count": 27,
   "id": "0f61da08-bb09-42ab-be08-b62d7c85442b",
   "metadata": {
    "jupyter": {
     "source_hidden": true
    },
    "tags": []
   },
   "outputs": [
    {
     "data": {
      "image/png": "[encoded data removed]",
      "text/plain": [
       "<Figure size 432x288 with 1 Axes>"
      ]
     },
     "metadata": {
      "needs_background": "light"
     },
     "output_type": "display_data"
    }
   ],
   "source": [
    "# plot full function on the interval (-10, 10)\n",
    "fig, ax = plt.subplots(1,1)\n",
    "x = np.linspace(-10, 10)\n",
    "ax.plot(x, f(x))\n",
    "plt.show()"
   ]
  },
  {
   "cell_type": "code",
   "execution_count": 26,
   "id": "16851c27-d511-4109-87b5-d2667ef307e9",
   "metadata": {
    "jupyter": {
     "source_hidden": true
    },
    "tags": []
   },
   "outputs": [
    {
     "data": {
      "image/png": "[encoded data removed]",
      "text/plain": [
       "<Figure size 432x288 with 1 Axes>"
      ]
     },
     "metadata": {
      "needs_background": "light"
     },
     "output_type": "display_data"
    }
   ],
   "source": [
    "# say we are interested in initial guesses (2, 3)\n",
    "a = 2\n",
    "b = 3\n",
    "\n",
    "# we can see this interval contains a root\n",
    "fig, ax = plt.subplots(1,1)\n",
    "x = np.linspace(a-1, b+1)\n",
    "ax.plot(x, f(x))\n",
    "ax.set_xlim(2, 3)\n",
    "ax.set_ylim(-3, 3)\n",
    "plt.show()\n",
    "\n",
    "# but we dont know exactly what this root is"
   ]
  },
  {
   "cell_type": "markdown",
   "id": "0180c312-30e3-487b-8fb8-f4f941844319",
   "metadata": {},
   "source": [
    "# Implementation "
   ]
  },
  {
   "cell_type": "code",
   "execution_count": 30,
   "id": "96c47f26-bf6c-4c8e-86c4-8dfd4789578b",
   "metadata": {},
   "outputs": [],
   "source": [
    "# then we can use this bisection method to approximate that root\n",
    "\n",
    "ri, rx, rfx = bisect_method(20, f, a, b)"
   ]
  },
  {
   "cell_type": "markdown",
   "id": "cdbb6d5b-02bd-4f04-aa48-fc179d605a0c",
   "metadata": {},
   "source": [
    "# Analysis"
   ]
  },
  {
   "cell_type": "code",
   "execution_count": 51,
   "id": "fac98109-9d9d-4257-a068-1b6a1eb576a2",
   "metadata": {
    "tags": []
   },
   "outputs": [
    {
     "data": {
      "image/png": "[encoded data removed]",
      "text/plain": [
       "<Figure size 432x288 with 1 Axes>"
      ]
     },
     "metadata": {
      "needs_background": "light"
     },
     "output_type": "display_data"
    }
   ],
   "source": [
    "# for this specific example we can see that our appriximation converges in less than 20 iterations.\n",
    "ax = plt.axes()\n",
    "ax.plot(ri, rfx)\n",
    "ax.set_xlabel('n Iteration')\n",
    "ax.set_ylabel('$f(x_{n})$')\n",
    "plt.show()"
   ]
  },
  {
   "cell_type": "code",
   "execution_count": 52,
   "id": "ad0ae5c9-287c-4249-871d-2fa7c3f9a9f7",
   "metadata": {
    "tags": []
   },
   "outputs": [
    {
     "data": {
      "image/png": "[encoded data removed]",
      "text/plain": [
       "<Figure size 432x288 with 1 Axes>"
      ]
     },
     "metadata": {
      "needs_background": "light"
     },
     "output_type": "display_data"
    }
   ],
   "source": [
    "# we can also observe how the value of x converges onto the root value\n",
    "ax = plt.axes()\n",
    "ax.scatter(rx, ri)\n",
    "ax.set_ylabel('n Iteration')\n",
    "ax.set_xlabel('$x_{n}$')\n",
    "plt.show()"
   ]
  },
  {
   "cell_type": "markdown",
   "id": "3484a2bb-3885-43b8-9638-a0f5fd21fb3e",
   "metadata": {},
   "source": [
    "# Error\n",
    "\n",
    "If we assume $\\zeta$ to be the exact root of the funtion $f(x)=0$ and initial approximations $a$ and $b$, then the aboslute error can be described by the sequence:\n",
    "\n",
    "$$|x_{0}-\\zeta| \\le \\frac{b-a}{2}$$\n",
    "\n",
    "\n",
    "$$|x_{1}-\\zeta| \\le \\frac{b-a}{2^{2}}$$\n",
    "\n",
    "$$\\vdots$$\n",
    "\n",
    "$$|x_{n}-\\zeta| \\le \\frac{b-a}{2^{n-1}}$$\n",
    "\n",
    "If the error of the $n$th approximation ($\\epsilon_{n}$) can be written as $\\epsilon_{n} = \\zeta - x_{n}$. Therefore, to find the minimum number of iterations to achieve a permissable error, we use the formula \n",
    "\n",
    "$$n \\ge \\frac{ln(b-a)-ln(\\epsilon)}{ln(2)}-1$$"
   ]
  },
  {
   "cell_type": "code",
   "execution_count": 64,
   "id": "2e879412-3961-4ea3-85d7-24c0104a31ae",
   "metadata": {},
   "outputs": [],
   "source": [
    "def min_iterations(a, b, error):\n",
    "    # permissible error\n",
    "    e = error\n",
    "    \n",
    "    # calculate minimum iterations\n",
    "    n = ((np.log(b-a) - np.log(e)) / np.log(2)) - 1\n",
    "    \n",
    "    return round(n)"
   ]
  },
  {
   "cell_type": "code",
   "execution_count": 63,
   "id": "4338f471-360f-4f57-b4e7-0101b436024a",
   "metadata": {},
   "outputs": [
    {
     "data": {
      "text/plain": [
       "7"
      ]
     },
     "execution_count": 63,
     "metadata": {},
     "output_type": "execute_result"
    }
   ],
   "source": [
    "# we see permissible error is reached approximately after 7 iterations\n",
    "min_iterations(2, 3, 0.005)"
   ]
  }
 ],
 "metadata": {
  "kernelspec": {
   "display_name": "Python 3 (ipykernel)",
   "language": "python",
   "name": "python3"
  },
  "language_info": {
   "codemirror_mode": {
    "name": "ipython",
    "version": 3
   },
   "file_extension": ".py",
   "mimetype": "text/x-python",
   "name": "python",
   "nbconvert_exporter": "python",
   "pygments_lexer": "ipython3",
   "version": "3.8.10"
  },
  "toc-autonumbering": true,
  "toc-showmarkdowntxt": false
 },
 "nbformat": 4,
 "nbformat_minor": 5
}
